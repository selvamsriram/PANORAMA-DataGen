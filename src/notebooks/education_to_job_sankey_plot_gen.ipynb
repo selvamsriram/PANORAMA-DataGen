{
 "cells": [
  {
   "cell_type": "code",
   "execution_count": 11,
   "metadata": {},
   "outputs": [
    {
     "data": {
      "application/vnd.plotly.v1+json": {
       "config": {
        "plotlyServerURL": "https://plot.ly"
       },
       "data": [
        {
         "link": {
          "color": [
           "#c6dbef",
           "#bae4b3",
           "#bae4b3",
           "#bae4b3",
           "#fcbba1",
           "#fcbba1",
           "#dadaeb",
           "#dadaeb",
           "#dadaeb",
           "#fdd49e",
           "#fdd49e",
           "#e5f5e0",
           "#e5f5e0",
           "#e5f5e0",
           "#f7fcb9",
           "#f7fcb9",
           "#d9f0a3",
           "#d9f0a3",
           "#d9f0a3",
           "#d9f0a3",
           "#d9f0a3",
           "#d9f0a3",
           "#fbb4b9",
           "#fbb4b9",
           "#ccebc5"
          ],
          "hovertemplate": "%{source.label} → %{target.label}<br>Flow: %{value:.2f}%<extra></extra>",
          "source": [
           0,
           1,
           1,
           1,
           2,
           2,
           3,
           3,
           3,
           4,
           4,
           5,
           5,
           5,
           6,
           6,
           7,
           7,
           7,
           7,
           7,
           7,
           8,
           8,
           9
          ],
          "target": [
           5,
           5,
           6,
           7,
           6,
           7,
           7,
           8,
           9,
           8,
           9,
           10,
           11,
           12,
           13,
           14,
           15,
           16,
           17,
           18,
           19,
           20,
           21,
           22,
           23
          ],
          "value": [
           4.41,
           14.71,
           7.35,
           2.45,
           3.92,
           3.92,
           14.71,
           7.35,
           2.45,
           6.37,
           3.82,
           1.76,
           1.32,
           0.88,
           1.47,
           0.98,
           2.94,
           0.98,
           1.96,
           1.47,
           2.94,
           2.21,
           1.91,
           1.27,
           1.27
          ]
         },
         "node": {
          "color": "white",
          "label": [
           "Less than HS (4.90%)",
           "High School (24.51%)",
           "Associate's (9.80%)",
           "Bachelor's (24.51%)",
           "Master's+ (12.74%)",
           "Entry/Service",
           "Skilled Trades",
           "Prof/Analyst",
           "High Prof/Specialized",
           "Management",
           "Cashier",
           "Cleaner",
           "Warehouse Worker",
           "Electrician",
           "Delivery Driver",
           "Admin Assistant",
           "Bookkeeper",
           "IT Support",
           "Paralegal",
           "Software Eng",
           "Financial Analyst",
           "Data Scientist",
           "Doctor",
           "Professor",
           "Project Manager"
          ],
          "line": {
           "color": "black",
           "width": 0.5
          },
          "pad": 15,
          "thickness": 20,
          "x": [
           0,
           0,
           0,
           0,
           0,
           0.3,
           0.3,
           0.3,
           0.3,
           0.3,
           0.7,
           0.7,
           0.7,
           0.7,
           0.7,
           0.7,
           0.7,
           0.7,
           0.7,
           0.7,
           0.7,
           0.7,
           0.7,
           0.7,
           0.7
          ],
          "y": [
           0,
           0.2,
           0.4,
           0.6,
           0.8,
           0,
           0.2,
           0.4,
           0.6,
           0.8,
           0,
           0.06666666666666667,
           0.13333333333333333,
           0.2,
           0.26666666666666666,
           0.3333333333333333,
           0.4,
           0.4666666666666667,
           0.5333333333333333,
           0.6,
           0.6666666666666666,
           0.7333333333333333,
           0.8,
           0.8666666666666667,
           0.9333333333333333
          ]
         },
         "type": "sankey"
        }
       ],
       "layout": {
        "annotations": [
         {
          "font": {
           "color": "black",
           "size": 18
          },
          "showarrow": false,
          "text": "🎓 Education",
          "x": 0.01,
          "y": 1.05
         },
         {
          "font": {
           "color": "black",
           "size": 18
          },
          "showarrow": false,
          "text": "🏢 Job Tier",
          "x": 0.31,
          "y": 1.05
         },
         {
          "font": {
           "color": "black",
           "size": 18
          },
          "showarrow": false,
          "text": "🧰 Example Jobs",
          "x": 0.71,
          "y": 1.05
         }
        ],
        "font": {
         "color": "black",
         "size": 14
        },
        "margin": {
         "b": 20,
         "l": 20,
         "r": 20,
         "t": 60
        },
        "paper_bgcolor": "white",
        "plot_bgcolor": "white",
        "template": {
         "data": {
          "bar": [
           {
            "error_x": {
             "color": "#2a3f5f"
            },
            "error_y": {
             "color": "#2a3f5f"
            },
            "marker": {
             "line": {
              "color": "#E5ECF6",
              "width": 0.5
             },
             "pattern": {
              "fillmode": "overlay",
              "size": 10,
              "solidity": 0.2
             }
            },
            "type": "bar"
           }
          ],
          "barpolar": [
           {
            "marker": {
             "line": {
              "color": "#E5ECF6",
              "width": 0.5
             },
             "pattern": {
              "fillmode": "overlay",
              "size": 10,
              "solidity": 0.2
             }
            },
            "type": "barpolar"
           }
          ],
          "carpet": [
           {
            "aaxis": {
             "endlinecolor": "#2a3f5f",
             "gridcolor": "white",
             "linecolor": "white",
             "minorgridcolor": "white",
             "startlinecolor": "#2a3f5f"
            },
            "baxis": {
             "endlinecolor": "#2a3f5f",
             "gridcolor": "white",
             "linecolor": "white",
             "minorgridcolor": "white",
             "startlinecolor": "#2a3f5f"
            },
            "type": "carpet"
           }
          ],
          "choropleth": [
           {
            "colorbar": {
             "outlinewidth": 0,
             "ticks": ""
            },
            "type": "choropleth"
           }
          ],
          "contour": [
           {
            "colorbar": {
             "outlinewidth": 0,
             "ticks": ""
            },
            "colorscale": [
             [
              0,
              "#0d0887"
             ],
             [
              0.1111111111111111,
              "#46039f"
             ],
             [
              0.2222222222222222,
              "#7201a8"
             ],
             [
              0.3333333333333333,
              "#9c179e"
             ],
             [
              0.4444444444444444,
              "#bd3786"
             ],
             [
              0.5555555555555556,
              "#d8576b"
             ],
             [
              0.6666666666666666,
              "#ed7953"
             ],
             [
              0.7777777777777778,
              "#fb9f3a"
             ],
             [
              0.8888888888888888,
              "#fdca26"
             ],
             [
              1,
              "#f0f921"
             ]
            ],
            "type": "contour"
           }
          ],
          "contourcarpet": [
           {
            "colorbar": {
             "outlinewidth": 0,
             "ticks": ""
            },
            "type": "contourcarpet"
           }
          ],
          "heatmap": [
           {
            "colorbar": {
             "outlinewidth": 0,
             "ticks": ""
            },
            "colorscale": [
             [
              0,
              "#0d0887"
             ],
             [
              0.1111111111111111,
              "#46039f"
             ],
             [
              0.2222222222222222,
              "#7201a8"
             ],
             [
              0.3333333333333333,
              "#9c179e"
             ],
             [
              0.4444444444444444,
              "#bd3786"
             ],
             [
              0.5555555555555556,
              "#d8576b"
             ],
             [
              0.6666666666666666,
              "#ed7953"
             ],
             [
              0.7777777777777778,
              "#fb9f3a"
             ],
             [
              0.8888888888888888,
              "#fdca26"
             ],
             [
              1,
              "#f0f921"
             ]
            ],
            "type": "heatmap"
           }
          ],
          "histogram": [
           {
            "marker": {
             "pattern": {
              "fillmode": "overlay",
              "size": 10,
              "solidity": 0.2
             }
            },
            "type": "histogram"
           }
          ],
          "histogram2d": [
           {
            "colorbar": {
             "outlinewidth": 0,
             "ticks": ""
            },
            "colorscale": [
             [
              0,
              "#0d0887"
             ],
             [
              0.1111111111111111,
              "#46039f"
             ],
             [
              0.2222222222222222,
              "#7201a8"
             ],
             [
              0.3333333333333333,
              "#9c179e"
             ],
             [
              0.4444444444444444,
              "#bd3786"
             ],
             [
              0.5555555555555556,
              "#d8576b"
             ],
             [
              0.6666666666666666,
              "#ed7953"
             ],
             [
              0.7777777777777778,
              "#fb9f3a"
             ],
             [
              0.8888888888888888,
              "#fdca26"
             ],
             [
              1,
              "#f0f921"
             ]
            ],
            "type": "histogram2d"
           }
          ],
          "histogram2dcontour": [
           {
            "colorbar": {
             "outlinewidth": 0,
             "ticks": ""
            },
            "colorscale": [
             [
              0,
              "#0d0887"
             ],
             [
              0.1111111111111111,
              "#46039f"
             ],
             [
              0.2222222222222222,
              "#7201a8"
             ],
             [
              0.3333333333333333,
              "#9c179e"
             ],
             [
              0.4444444444444444,
              "#bd3786"
             ],
             [
              0.5555555555555556,
              "#d8576b"
             ],
             [
              0.6666666666666666,
              "#ed7953"
             ],
             [
              0.7777777777777778,
              "#fb9f3a"
             ],
             [
              0.8888888888888888,
              "#fdca26"
             ],
             [
              1,
              "#f0f921"
             ]
            ],
            "type": "histogram2dcontour"
           }
          ],
          "mesh3d": [
           {
            "colorbar": {
             "outlinewidth": 0,
             "ticks": ""
            },
            "type": "mesh3d"
           }
          ],
          "parcoords": [
           {
            "line": {
             "colorbar": {
              "outlinewidth": 0,
              "ticks": ""
             }
            },
            "type": "parcoords"
           }
          ],
          "pie": [
           {
            "automargin": true,
            "type": "pie"
           }
          ],
          "scatter": [
           {
            "fillpattern": {
             "fillmode": "overlay",
             "size": 10,
             "solidity": 0.2
            },
            "type": "scatter"
           }
          ],
          "scatter3d": [
           {
            "line": {
             "colorbar": {
              "outlinewidth": 0,
              "ticks": ""
             }
            },
            "marker": {
             "colorbar": {
              "outlinewidth": 0,
              "ticks": ""
             }
            },
            "type": "scatter3d"
           }
          ],
          "scattercarpet": [
           {
            "marker": {
             "colorbar": {
              "outlinewidth": 0,
              "ticks": ""
             }
            },
            "type": "scattercarpet"
           }
          ],
          "scattergeo": [
           {
            "marker": {
             "colorbar": {
              "outlinewidth": 0,
              "ticks": ""
             }
            },
            "type": "scattergeo"
           }
          ],
          "scattergl": [
           {
            "marker": {
             "colorbar": {
              "outlinewidth": 0,
              "ticks": ""
             }
            },
            "type": "scattergl"
           }
          ],
          "scattermap": [
           {
            "marker": {
             "colorbar": {
              "outlinewidth": 0,
              "ticks": ""
             }
            },
            "type": "scattermap"
           }
          ],
          "scattermapbox": [
           {
            "marker": {
             "colorbar": {
              "outlinewidth": 0,
              "ticks": ""
             }
            },
            "type": "scattermapbox"
           }
          ],
          "scatterpolar": [
           {
            "marker": {
             "colorbar": {
              "outlinewidth": 0,
              "ticks": ""
             }
            },
            "type": "scatterpolar"
           }
          ],
          "scatterpolargl": [
           {
            "marker": {
             "colorbar": {
              "outlinewidth": 0,
              "ticks": ""
             }
            },
            "type": "scatterpolargl"
           }
          ],
          "scatterternary": [
           {
            "marker": {
             "colorbar": {
              "outlinewidth": 0,
              "ticks": ""
             }
            },
            "type": "scatterternary"
           }
          ],
          "surface": [
           {
            "colorbar": {
             "outlinewidth": 0,
             "ticks": ""
            },
            "colorscale": [
             [
              0,
              "#0d0887"
             ],
             [
              0.1111111111111111,
              "#46039f"
             ],
             [
              0.2222222222222222,
              "#7201a8"
             ],
             [
              0.3333333333333333,
              "#9c179e"
             ],
             [
              0.4444444444444444,
              "#bd3786"
             ],
             [
              0.5555555555555556,
              "#d8576b"
             ],
             [
              0.6666666666666666,
              "#ed7953"
             ],
             [
              0.7777777777777778,
              "#fb9f3a"
             ],
             [
              0.8888888888888888,
              "#fdca26"
             ],
             [
              1,
              "#f0f921"
             ]
            ],
            "type": "surface"
           }
          ],
          "table": [
           {
            "cells": {
             "fill": {
              "color": "#EBF0F8"
             },
             "line": {
              "color": "white"
             }
            },
            "header": {
             "fill": {
              "color": "#C8D4E3"
             },
             "line": {
              "color": "white"
             }
            },
            "type": "table"
           }
          ]
         },
         "layout": {
          "annotationdefaults": {
           "arrowcolor": "#2a3f5f",
           "arrowhead": 0,
           "arrowwidth": 1
          },
          "autotypenumbers": "strict",
          "coloraxis": {
           "colorbar": {
            "outlinewidth": 0,
            "ticks": ""
           }
          },
          "colorscale": {
           "diverging": [
            [
             0,
             "#8e0152"
            ],
            [
             0.1,
             "#c51b7d"
            ],
            [
             0.2,
             "#de77ae"
            ],
            [
             0.3,
             "#f1b6da"
            ],
            [
             0.4,
             "#fde0ef"
            ],
            [
             0.5,
             "#f7f7f7"
            ],
            [
             0.6,
             "#e6f5d0"
            ],
            [
             0.7,
             "#b8e186"
            ],
            [
             0.8,
             "#7fbc41"
            ],
            [
             0.9,
             "#4d9221"
            ],
            [
             1,
             "#276419"
            ]
           ],
           "sequential": [
            [
             0,
             "#0d0887"
            ],
            [
             0.1111111111111111,
             "#46039f"
            ],
            [
             0.2222222222222222,
             "#7201a8"
            ],
            [
             0.3333333333333333,
             "#9c179e"
            ],
            [
             0.4444444444444444,
             "#bd3786"
            ],
            [
             0.5555555555555556,
             "#d8576b"
            ],
            [
             0.6666666666666666,
             "#ed7953"
            ],
            [
             0.7777777777777778,
             "#fb9f3a"
            ],
            [
             0.8888888888888888,
             "#fdca26"
            ],
            [
             1,
             "#f0f921"
            ]
           ],
           "sequentialminus": [
            [
             0,
             "#0d0887"
            ],
            [
             0.1111111111111111,
             "#46039f"
            ],
            [
             0.2222222222222222,
             "#7201a8"
            ],
            [
             0.3333333333333333,
             "#9c179e"
            ],
            [
             0.4444444444444444,
             "#bd3786"
            ],
            [
             0.5555555555555556,
             "#d8576b"
            ],
            [
             0.6666666666666666,
             "#ed7953"
            ],
            [
             0.7777777777777778,
             "#fb9f3a"
            ],
            [
             0.8888888888888888,
             "#fdca26"
            ],
            [
             1,
             "#f0f921"
            ]
           ]
          },
          "colorway": [
           "#636efa",
           "#EF553B",
           "#00cc96",
           "#ab63fa",
           "#FFA15A",
           "#19d3f3",
           "#FF6692",
           "#B6E880",
           "#FF97FF",
           "#FECB52"
          ],
          "font": {
           "color": "#2a3f5f"
          },
          "geo": {
           "bgcolor": "white",
           "lakecolor": "white",
           "landcolor": "#E5ECF6",
           "showlakes": true,
           "showland": true,
           "subunitcolor": "white"
          },
          "hoverlabel": {
           "align": "left"
          },
          "hovermode": "closest",
          "mapbox": {
           "style": "light"
          },
          "paper_bgcolor": "white",
          "plot_bgcolor": "#E5ECF6",
          "polar": {
           "angularaxis": {
            "gridcolor": "white",
            "linecolor": "white",
            "ticks": ""
           },
           "bgcolor": "#E5ECF6",
           "radialaxis": {
            "gridcolor": "white",
            "linecolor": "white",
            "ticks": ""
           }
          },
          "scene": {
           "xaxis": {
            "backgroundcolor": "#E5ECF6",
            "gridcolor": "white",
            "gridwidth": 2,
            "linecolor": "white",
            "showbackground": true,
            "ticks": "",
            "zerolinecolor": "white"
           },
           "yaxis": {
            "backgroundcolor": "#E5ECF6",
            "gridcolor": "white",
            "gridwidth": 2,
            "linecolor": "white",
            "showbackground": true,
            "ticks": "",
            "zerolinecolor": "white"
           },
           "zaxis": {
            "backgroundcolor": "#E5ECF6",
            "gridcolor": "white",
            "gridwidth": 2,
            "linecolor": "white",
            "showbackground": true,
            "ticks": "",
            "zerolinecolor": "white"
           }
          },
          "shapedefaults": {
           "line": {
            "color": "#2a3f5f"
           }
          },
          "ternary": {
           "aaxis": {
            "gridcolor": "white",
            "linecolor": "white",
            "ticks": ""
           },
           "baxis": {
            "gridcolor": "white",
            "linecolor": "white",
            "ticks": ""
           },
           "bgcolor": "#E5ECF6",
           "caxis": {
            "gridcolor": "white",
            "linecolor": "white",
            "ticks": ""
           }
          },
          "title": {
           "x": 0.05
          },
          "xaxis": {
           "automargin": true,
           "gridcolor": "white",
           "linecolor": "white",
           "ticks": "",
           "title": {
            "standoff": 15
           },
           "zerolinecolor": "white",
           "zerolinewidth": 2
          },
          "yaxis": {
           "automargin": true,
           "gridcolor": "white",
           "linecolor": "white",
           "ticks": "",
           "title": {
            "standoff": 15
           },
           "zerolinecolor": "white",
           "zerolinewidth": 2
          }
         }
        },
        "title": {
         "text": "Education Level → Job Tier → Example Job"
        }
       }
      }
     },
     "metadata": {},
     "output_type": "display_data"
    }
   ],
   "source": [
    "import plotly.graph_objects as go\n",
    "\n",
    "# Define node labels\n",
    "edu_levels = [\n",
    "    \"Less than HS (4.90%)\", \"High School (24.51%)\", \"Associate's (9.80%)\",\n",
    "    \"Bachelor's (24.51%)\", \"Master's+ (12.74%)\"\n",
    "]\n",
    "\n",
    "job_tiers = [\n",
    "    \"Entry/Service\", \"Skilled Trades\", \"Prof/Analyst\",\n",
    "    \"High Prof/Specialized\", \"Management\"\n",
    "]\n",
    "\n",
    "example_jobs = [\n",
    "    \"Cashier\", \"Cleaner\", \"Warehouse Worker\",              # Entry/Service\n",
    "    \"Electrician\", \"Delivery Driver\",                      # Skilled Trades\n",
    "    \"Admin Assistant\", \"Bookkeeper\", \"IT Support\", \"Paralegal\", \"Software Eng\", \"Financial Analyst\", \"Data Scientist\",  # Prof/Analyst\n",
    "    \"Doctor\", \"Professor\",                                 # High Prof/Specialized\n",
    "    \"Project Manager\"                                      # Management\n",
    "]\n",
    "\n",
    "node_labels = edu_levels + job_tiers + example_jobs\n",
    "\n",
    "# Set node positions\n",
    "edu_count = len(edu_levels)\n",
    "tier_count = len(job_tiers)\n",
    "job_count = len(example_jobs)\n",
    "\n",
    "x = [0.0]*edu_count + [0.3]*tier_count + [0.7]*job_count\n",
    "y = list([i/len(edu_levels) for i in range(len(edu_levels))]) + \\\n",
    "    list([i/len(job_tiers) for i in range(len(job_tiers))]) + \\\n",
    "    list([i/len(example_jobs) for i in range(len(example_jobs))])\n",
    "\n",
    "# Links: Education → Job Tiers\n",
    "edu_to_tiers = [\n",
    "    (0, 5, 4.41),\n",
    "    (1, 5, 14.71), (1, 6, 7.35), (1, 7, 2.45),\n",
    "    (2, 6, 3.92), (2, 7, 3.92),\n",
    "    (3, 7, 14.71), (3, 8, 7.35), (3, 9, 2.45),\n",
    "    (4, 8, 6.37), (4, 9, 3.82)\n",
    "]\n",
    "\n",
    "# Links: Job Tiers → Example Jobs\n",
    "tiers_to_jobs = [\n",
    "    (5, 10, 1.76), (5, 11, 1.32), (5, 12, 0.88),\n",
    "    (6, 13, 1.47), (6, 14, 0.98),\n",
    "    (7, 15, 2.94), (7, 16, 0.98), (7, 17, 1.96), (7, 18, 1.47),\n",
    "    (7, 19, 2.94), (7, 20, 2.21),\n",
    "    (8, 21, 1.91), (8, 22, 1.27),\n",
    "    (9, 23, 1.27)\n",
    "]\n",
    "\n",
    "# Combine sources/targets/values\n",
    "sources = [s for s, t, v in edu_to_tiers + tiers_to_jobs]\n",
    "targets = [t for s, t, v in edu_to_tiers + tiers_to_jobs]\n",
    "values  = [v for s, t, v in edu_to_tiers + tiers_to_jobs]\n",
    "\n",
    "# Colorblind-safe, high-contrast colors\n",
    "# edu_colors = [\n",
    "#     \"#1b9e77\",           # Less than HS\n",
    "#     \"#d95f02\", \"#d95f02\", \"#d95f02\",  # High School\n",
    "#     \"#7570b3\", \"#7570b3\",             # Associate's\n",
    "#     \"#e7298a\", \"#e7298a\", \"#e7298a\",  # Bachelor's\n",
    "#     \"#66a61e\", \"#66a61e\"              # Master's+\n",
    "# ]\n",
    "\n",
    "# job_tier_colors = [\n",
    "#     \"#a6cee3\", \"#a6cee3\", \"#a6cee3\",  # Entry/Service\n",
    "#     \"#b2df8a\", \"#b2df8a\",            # Skilled Trades\n",
    "#     \"#fb9a99\", \"#fb9a99\", \"#fb9a99\", \"#fb9a99\", \"#fb9a99\", \"#fb9a99\",  # Prof/Analyst\n",
    "#     \"#fdbf6f\", \"#fdbf6f\",            # High Prof/Specialized\n",
    "#     \"#cab2d6\"                        # Management\n",
    "# ]\n",
    "\n",
    "# link_colors = edu_colors + job_tier_colors\n",
    "\n",
    "# # Updated Colorblind-friendly and readable colors\n",
    "# edu_colors = [\n",
    "#     \"#1f78b4\",           # Less than HS – blue\n",
    "#     \"#33a02c\", \"#33a02c\", \"#33a02c\",  # High School – green\n",
    "#     \"#e31a1c\", \"#e31a1c\",             # Associate's – red\n",
    "#     \"#ff7f00\", \"#ff7f00\", \"#ff7f00\",  # Bachelor's – orange\n",
    "#     \"#6a3d9a\", \"#6a3d9a\"              # Master's+ – purple\n",
    "# ]\n",
    "\n",
    "# job_tier_colors = [\n",
    "#     \"#a6cee3\", \"#a6cee3\", \"#a6cee3\",  # Entry/Service – light blue\n",
    "#     \"#b2df8a\", \"#b2df8a\",             # Skilled Trades – light green\n",
    "#     \"#fb9a99\", \"#fb9a99\", \"#fb9a99\", \"#fb9a99\", \"#fb9a99\", \"#fb9a99\",  # Prof/Analyst – light red\n",
    "#     \"#fdbf6f\", \"#fdbf6f\",             # High Prof/Specialized – light orange\n",
    "#     \"#cab2d6\"                         # Management – light purple\n",
    "# ]\n",
    "\n",
    "# link_colors = edu_colors + job_tier_colors\n",
    "\n",
    "#link_colors = [c.replace(\"#\", \"rgba(\") + \",0.8)\" for c in edu_colors + job_tier_colors]\n",
    "\n",
    "# Milder pastel colors for education levels\n",
    "edu_colors = [\n",
    "    \"#c6dbef\",           # Less than HS – soft blue\n",
    "    \"#bae4b3\", \"#bae4b3\", \"#bae4b3\",  # High School – soft green\n",
    "    \"#fcbba1\", \"#fcbba1\",             # Associate's – soft red/orange\n",
    "    \"#dadaeb\", \"#dadaeb\", \"#dadaeb\",  # Bachelor's – soft purple\n",
    "    \"#fdd49e\", \"#fdd49e\"              # Master's+ – soft yellow-orange\n",
    "]\n",
    "\n",
    "# Milder pastel colors for job tiers\n",
    "job_tier_colors = [\n",
    "    \"#e5f5e0\", \"#e5f5e0\", \"#e5f5e0\",  # Entry/Service – light green\n",
    "    \"#f7fcb9\", \"#f7fcb9\",            # Skilled Trades – light yellow\n",
    "    \"#d9f0a3\", \"#d9f0a3\", \"#d9f0a3\", \"#d9f0a3\", \"#d9f0a3\", \"#d9f0a3\",  # Prof/Analyst – light green/yellow\n",
    "    \"#fbb4b9\", \"#fbb4b9\",            # High Prof/Specialized – light rose\n",
    "    \"#ccebc5\"                        # Management – mint green\n",
    "]\n",
    "\n",
    "link_colors = edu_colors + job_tier_colors\n",
    "\n",
    "\n",
    "# def hex_to_rgba(hex_color, alpha=0.8):\n",
    "#     hex_color = hex_color.lstrip(\"#\")\n",
    "#     r, g, b = [int(hex_color[i:i+2], 16) for i in (0, 2, 4)]\n",
    "#     return f\"rgba({r},{g},{b},{alpha})\"\n",
    "\n",
    "# link_colors = [hex_to_rgba(c) for c in edu_colors + job_tier_colors]\n",
    "\n",
    "# Create Sankey\n",
    "fig = go.Figure(data=[go.Sankey(\n",
    "    node=dict(\n",
    "        pad=15,\n",
    "        thickness=20,\n",
    "        line=dict(color=\"black\", width=0.5),\n",
    "        label=node_labels,\n",
    "        color=\"white\",  # Node fill\n",
    "        x=x,\n",
    "        y=y\n",
    "    ),\n",
    "    link=dict(\n",
    "        source=sources,\n",
    "        target=targets,\n",
    "        value=values,\n",
    "        color=link_colors,\n",
    "        hovertemplate='%{source.label} → %{target.label}<br>Flow: %{value:.2f}%<extra></extra>'\n",
    "    )\n",
    ")])\n",
    "\n",
    "\n",
    "fig.update_layout(\n",
    "    title_text=\"Education Level → Job Tier → Example Job\",\n",
    "    font=dict(size=14, color='black'),  # Applies to all text\n",
    "    #font=dict(size=14, color='#333333')\n",
    "    annotations=[\n",
    "        dict(x=0.01, y=1.05, text=\"🎓 Education\", showarrow=False, font=dict(size=18, color='black')),\n",
    "        dict(x=0.31, y=1.05, text=\"🏢 Job Tier\", showarrow=False, font=dict(size=18, color='black')),\n",
    "        dict(x=0.71, y=1.05, text=\"🧰 Example Jobs\", showarrow=False, font=dict(size=18, color='black'))\n",
    "    ],\n",
    "    margin=dict(l=20, r=20, t=60, b=20),\n",
    "    plot_bgcolor='white',\n",
    "    paper_bgcolor='white'\n",
    ")\n",
    "\n",
    "\n",
    "fig.show()\n",
    "fig.write_html(\"sankey_education_job_map.html\")\n"
   ]
  },
  {
   "cell_type": "markdown",
   "metadata": {},
   "source": []
  }
 ],
 "metadata": {
  "kernelspec": {
   "display_name": "Python 3",
   "language": "python",
   "name": "python3"
  },
  "language_info": {
   "codemirror_mode": {
    "name": "ipython",
    "version": 3
   },
   "file_extension": ".py",
   "mimetype": "text/x-python",
   "name": "python",
   "nbconvert_exporter": "python",
   "pygments_lexer": "ipython3",
   "version": "3.9.6"
  }
 },
 "nbformat": 4,
 "nbformat_minor": 2
}
