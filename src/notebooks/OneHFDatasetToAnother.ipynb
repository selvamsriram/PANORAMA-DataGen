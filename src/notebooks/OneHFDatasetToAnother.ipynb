{
 "cells": [
  {
   "cell_type": "code",
   "execution_count": 1,
   "metadata": {},
   "outputs": [
    {
     "name": "stderr",
     "output_type": "stream",
     "text": [
      "/Users/sriramselvam/Library/Python/3.9/lib/python/site-packages/urllib3/__init__.py:35: NotOpenSSLWarning: urllib3 v2 only supports OpenSSL 1.1.1+, currently the 'ssl' module is compiled with 'LibreSSL 2.8.3'. See: https://github.com/urllib3/urllib3/issues/3020\n",
      "  warnings.warn(\n"
     ]
    }
   ],
   "source": [
    "from huggingface_hub import login\n",
    "from datasets import load_dataset\n",
    "import os\n",
    "\n",
    "# Retrieve the token from Kaggle secrets\n",
    "hf_token = os.environ.get(\"HF_TOKEN\")\n",
    "\n",
    "# Authenticate with Hugging Face\n",
    "# login(token=hf_token)\n",
    "\n",
    "# Load the private dataset\n",
    "dataset = load_dataset(\"srirxml/synthetic-pii-pretraining\", split=\"train\", use_auth_token=hf_token)"
   ]
  },
  {
   "cell_type": "code",
   "execution_count": 2,
   "metadata": {},
   "outputs": [
    {
     "name": "stdout",
     "output_type": "stream",
     "text": [
      "Total number of samples: 384794\n",
      "Counter({'Social Media': 88408, 'Forum Post': 83546, 'Online Review': 79758, 'Blog/News Article Comment': 77472, 'Online Ad': 45936, 'Article': 9674})\n"
     ]
    }
   ],
   "source": [
    "from collections import Counter\n",
    "\n",
    "# Count the occurrences of each content-type\n",
    "content_type_counts = Counter(dataset['content-type'])\n",
    "\n",
    "unique_content_types = set(dataset['content-type'])\n",
    "\n",
    "print (f\"Total number of samples: {len(dataset)}\")\n",
    "# Display the counts\n",
    "print(content_type_counts)\n",
    "\n",
    "df = dataset.to_pandas()"
   ]
  },
  {
   "cell_type": "code",
   "execution_count": 3,
   "metadata": {},
   "outputs": [
    {
     "data": {
      "application/vnd.jupyter.widget-view+json": {
       "model_id": "1c6d777816ef457d8533a35e680ba1cc",
       "version_major": 2,
       "version_minor": 0
      },
      "text/plain": [
       "Uploading the dataset shards:   0%|          | 0/1 [00:00<?, ?it/s]"
      ]
     },
     "metadata": {},
     "output_type": "display_data"
    },
    {
     "data": {
      "application/vnd.jupyter.widget-view+json": {
       "model_id": "d1c1189b96344831bbbf0951ac168a5b",
       "version_major": 2,
       "version_minor": 0
      },
      "text/plain": [
       "Creating parquet from Arrow format:   0%|          | 0/385 [00:00<?, ?ba/s]"
      ]
     },
     "metadata": {},
     "output_type": "display_data"
    },
    {
     "data": {
      "text/plain": [
       "CommitInfo(commit_url='https://huggingface.co/datasets/srirxml/PANORAMA/commit/d7c85a3b23ec686d737ca52074d9904b6666c460', commit_message='Upload dataset', commit_description='', oid='d7c85a3b23ec686d737ca52074d9904b6666c460', pr_url=None, repo_url=RepoUrl('https://huggingface.co/datasets/srirxml/PANORAMA', endpoint='https://huggingface.co', repo_type='dataset', repo_id='srirxml/PANORAMA'), pr_revision=None, pr_num=None)"
      ]
     },
     "execution_count": 3,
     "metadata": {},
     "output_type": "execute_result"
    }
   ],
   "source": [
    "from datasets import Dataset, DatasetDict\n",
    "from huggingface_hub import HfApi, HfFolder\n",
    "import pandas as pd\n",
    "\n",
    "HF_USERNAME = \"srirxml\"\n",
    "HF_TOKEN = os.environ.get(\"HF_TOKEN\")\n",
    "\n",
    "dataset = Dataset.from_pandas(df)\n",
    "repo_name = f\"{HF_USERNAME}/PANORAMA\"\n",
    "    \n",
    "# Push to hub\n",
    "dataset.push_to_hub(repo_name)"
   ]
  }
 ],
 "metadata": {
  "kernelspec": {
   "display_name": "Python 3",
   "language": "python",
   "name": "python3"
  },
  "language_info": {
   "codemirror_mode": {
    "name": "ipython",
    "version": 3
   },
   "file_extension": ".py",
   "mimetype": "text/x-python",
   "name": "python",
   "nbconvert_exporter": "python",
   "pygments_lexer": "ipython3",
   "version": "3.9.6"
  }
 },
 "nbformat": 4,
 "nbformat_minor": 2
}
